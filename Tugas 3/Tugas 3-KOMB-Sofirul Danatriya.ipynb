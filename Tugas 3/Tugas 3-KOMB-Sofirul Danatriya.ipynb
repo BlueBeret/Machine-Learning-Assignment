{
 "cells": [
  {
   "cell_type": "markdown",
   "metadata": {},
   "source": [
    "### Tugas 2 - 5 Cross Validation | KOMB\n",
    "### Nama: Sofirul Danatriya\n",
    "### NIM\t: 20/455453/PA/19668"
   ]
  },
  {
   "cell_type": "code",
   "execution_count": 1,
   "metadata": {},
   "outputs": [
    {
     "data": {
      "text/html": [
       "<div>\n",
       "<style scoped>\n",
       "    .dataframe tbody tr th:only-of-type {\n",
       "        vertical-align: middle;\n",
       "    }\n",
       "\n",
       "    .dataframe tbody tr th {\n",
       "        vertical-align: top;\n",
       "    }\n",
       "\n",
       "    .dataframe thead th {\n",
       "        text-align: right;\n",
       "    }\n",
       "</style>\n",
       "<table border=\"1\" class=\"dataframe\">\n",
       "  <thead>\n",
       "    <tr style=\"text-align: right;\">\n",
       "      <th></th>\n",
       "      <th>Real Label</th>\n",
       "      <th>Prediction</th>\n",
       "    </tr>\n",
       "  </thead>\n",
       "  <tbody>\n",
       "    <tr>\n",
       "      <th>5</th>\n",
       "      <td>1</td>\n",
       "      <td>1</td>\n",
       "    </tr>\n",
       "    <tr>\n",
       "      <th>6</th>\n",
       "      <td>1</td>\n",
       "      <td>1</td>\n",
       "    </tr>\n",
       "    <tr>\n",
       "      <th>7</th>\n",
       "      <td>1</td>\n",
       "      <td>0</td>\n",
       "    </tr>\n",
       "    <tr>\n",
       "      <th>8</th>\n",
       "      <td>1</td>\n",
       "      <td>0</td>\n",
       "    </tr>\n",
       "    <tr>\n",
       "      <th>9</th>\n",
       "      <td>1</td>\n",
       "      <td>0</td>\n",
       "    </tr>\n",
       "  </tbody>\n",
       "</table>\n",
       "</div>"
      ],
      "text/plain": [
       "  Real Label Prediction\n",
       "5          1          1\n",
       "6          1          1\n",
       "7          1          0\n",
       "8          1          0\n",
       "9          1          0"
      ]
     },
     "execution_count": 1,
     "metadata": {},
     "output_type": "execute_result"
    }
   ],
   "source": [
    "# import library\n",
    "import pandas as pd\n",
    "\n",
    "# load file\n",
    "df = pd.read_excel(\"Tugas3-ML.xlsx\")\n",
    "\n",
    "# menghilangkan id\n",
    "df = df.iloc[5:,1:]\n",
    "df.columns = ['Real Label', 'Prediction']\n",
    "\n",
    "df.head()"
   ]
  },
  {
   "cell_type": "code",
   "execution_count": 2,
   "metadata": {},
   "outputs": [],
   "source": [
    "# fungsi untuk membuat confussion matrix\n",
    "def generateConfussionMatrix(dataframe):\n",
    "    (TP, FP, TN, FN) = (0, 0, 0, 0)\n",
    "    for i, row in dataframe.iterrows():\n",
    "        if row['Real Label'] == 1 and row['Prediction'] == 1:\n",
    "            TP += 1\n",
    "        elif row['Real Label'] == 1 and row['Prediction'] == 0:\n",
    "            FN += 1\n",
    "        elif row['Real Label'] == 0 and row['Prediction'] == 1:\n",
    "            FP += 1\n",
    "        elif row['Real Label'] == 0 and row['Prediction'] == 0:\n",
    "            TN += 1\n",
    "\n",
    "    return (TP, FP, TN, FN)\n",
    "\n",
    "# Fungsi untuk menghitung Akurasi Presisi dan Recall\n",
    "def hitungAPR(TP, FP, TN, FN):\n",
    "    akurasi = (TP + TN) / (TP + TN + FP + FN)\n",
    "    presisi = (TP) / (TP + FP)\n",
    "    recall = (TP) / (TP + FN)\n",
    "    return (akurasi, presisi, recall)"
   ]
  },
  {
   "cell_type": "code",
   "execution_count": 3,
   "metadata": {},
   "outputs": [
    {
     "name": "stdout",
     "output_type": "stream",
     "text": [
      "Predicted\t       ActualValues\n",
      "\t\t\tPositive\tNegative\n",
      "Positive\t16\t\t\t21\n",
      "Negative\t10\t\t\t19\n"
     ]
    }
   ],
   "source": [
    "# menghitung confussion matrix\n",
    "(TP, FP, TN, FN) = generateConfussionMatrix(df)\n",
    "print('Predicted\\t       ActualValues')\n",
    "print('\\t\\t\\tPositive\\tNegative')\n",
    "print(f'Positive\\t{TP}\\t\\t\\t{FP}')\n",
    "print(f'Negative\\t{FN}\\t\\t\\t{TN}')"
   ]
  },
  {
   "cell_type": "code",
   "execution_count": 4,
   "metadata": {},
   "outputs": [
    {
     "name": "stdout",
     "output_type": "stream",
     "text": [
      "Akurasi\t\t: 53.03%\n",
      "Presisi\t\t: 43.24%\n",
      "Sensitivitas\t: 61.54%\n"
     ]
    }
   ],
   "source": [
    "# Menghitung Akurasi, Presisi, dan recall/sensitivitas\n",
    "(akurasi, presisi, sensitivitas) = hitungAPR(TP, FP, TN, FN)\n",
    "\n",
    "print(f'Akurasi\\t\\t: {round(akurasi*100,2)}%')\n",
    "print(f'Presisi\\t\\t: {round(presisi*100,2)}%' )\n",
    "print(f'Sensitivitas\\t: {round(sensitivitas*100,2)}%', )\n",
    "\n"
   ]
  },
  {
   "cell_type": "markdown",
   "metadata": {},
   "source": [
    "Dari Perhitungan diatas, kita dapat diambil kesimpulan bahwa:\n",
    "Mesin memiliki akurasi 53.03%, presisi 43.24%, dan recall/sensitivitas 61.54%."
   ]
  }
 ],
 "metadata": {
  "interpreter": {
   "hash": "1abfc7cf5f855fef04080454baba6fb07024bf02fe622a1ea1c9c6591e669149"
  },
  "kernelspec": {
   "display_name": "Python 3.10.2 ('venv': venv)",
   "language": "python",
   "name": "python3"
  },
  "language_info": {
   "codemirror_mode": {
    "name": "ipython",
    "version": 3
   },
   "file_extension": ".py",
   "mimetype": "text/x-python",
   "name": "python",
   "nbconvert_exporter": "python",
   "pygments_lexer": "ipython3",
   "version": "3.10.2"
  },
  "orig_nbformat": 4
 },
 "nbformat": 4,
 "nbformat_minor": 2
}
