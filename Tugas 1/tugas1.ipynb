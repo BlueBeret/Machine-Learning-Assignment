{
 "cells": [
  {
   "cell_type": "code",
   "execution_count": null,
   "metadata": {},
   "outputs": [],
   "source": [
    "# import library yang dibutuhkan\n",
    "import pandas as pd\n",
    "import matplotlib\n",
    "\n",
    "# memuat data file\n",
    "path = './water_potability.csv' # sumber dari https://www.kaggle.com/adityakadiwal/water-potability\n",
    "df = pd.read_csv(path)\n",
    "\n",
    "# menampilkan tipe data untuk tiap kolom\n",
    "print(df.dtypes)"
   ]
  },
  {
   "cell_type": "markdown",
   "metadata": {},
   "source": [
    "1. Statistik Deskriptif (mean, median, modus, varian, standar deviasi)"
   ]
  },
  {
   "cell_type": "code",
   "execution_count": null,
   "metadata": {},
   "outputs": [],
   "source": [
    "\n",
    "df.describe() # menampilkan statistik deskriptif dari dataframe"
   ]
  },
  {
   "cell_type": "markdown",
   "metadata": {},
   "source": [
    "2. Visualisasi untuk beberapa variabel/feature dengan variabel yang sesuai\n",
    "\n",
    "    Disini saya memvisualisasikan variabel Turbidity dan Potability dengan menggunakan scatter plot."
   ]
  },
  {
   "cell_type": "code",
   "execution_count": null,
   "metadata": {},
   "outputs": [],
   "source": [
    "df.plot(x='Turbidity', y='Potability', title='Grafik kekeruhan dan kelayakan untuk diminum',kind='scatter', legend=True) # menampilkan grafik\n",
    "df.hist(column=['ph']) # visualisasi berupa histogram dari kolom ph"
   ]
  },
  {
   "cell_type": "markdown",
   "metadata": {},
   "source": [
    "3. Correlation analysis dari 2 feature/variabel dengan pearson correlation dan visualisasi yang sesuai. Lakukan untuk 3 pasangan feature - target.\n"
   ]
  }
 ],
 "metadata": {
  "interpreter": {
   "hash": "1abfc7cf5f855fef04080454baba6fb07024bf02fe622a1ea1c9c6591e669149"
  },
  "kernelspec": {
   "display_name": "Python 3.10.2 ('venv': venv)",
   "language": "python",
   "name": "python3"
  },
  "language_info": {
   "codemirror_mode": {
    "name": "ipython",
    "version": 3
   },
   "file_extension": ".py",
   "mimetype": "text/x-python",
   "name": "python",
   "nbconvert_exporter": "python",
   "pygments_lexer": "ipython3",
   "version": "3.10.2"
  },
  "orig_nbformat": 4
 },
 "nbformat": 4,
 "nbformat_minor": 2
}
