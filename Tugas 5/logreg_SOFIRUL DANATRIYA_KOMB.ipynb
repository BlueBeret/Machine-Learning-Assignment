{
 "cells": [
  {
   "cell_type": "markdown",
   "metadata": {},
   "source": [
    "## Tugas 5 - Logistic Regression | KOMB\n",
    "## Nama : Sofirul Danatriya\n",
    "## NIM\t: 20/455453/PA/19668"
   ]
  },
  {
   "cell_type": "code",
   "execution_count": 2,
   "metadata": {},
   "outputs": [],
   "source": [
    "# import dependencies\n",
    "import matplotlib.pyplot as plt\n",
    "import numpy as np\n",
    "import pandas as pd\n",
    "from sklearn import datasets\n",
    "from sklearn.model_selection import StratifiedShuffleSplit\n",
    "from sklearn.model_selection import train_test_split\n",
    "\n",
    "# muat dataset iris\n",
    "iris = datasets.load_iris()"
   ]
  },
  {
   "cell_type": "code",
   "execution_count": 3,
   "metadata": {},
   "outputs": [],
   "source": [
    "# NO 1\n",
    "\n",
    "# ubah iris ke dataframe\n",
    "data = np.c_[iris.data, iris.target]\n",
    "columns = np.append(iris.feature_names, 'target')\n",
    "df = pd.DataFrame(data, columns=columns)\n",
    "\n",
    "# buang kelas Virginica\n",
    "df = df[df[\"target\"] != 2]\n",
    "df = df.iloc[:, [1,3,4]]\n",
    "\n",
    "# split menjadi fitur dan target\n",
    "X = df\n",
    "y = df.pop('target').to_frame()\n",
    "\n",
    "# split data menjadi 80% training dan 20% testing\n",
    "# dan balance menurut target\n",
    "X_train, X_test, y_train, y_test = train_test_split(\n",
    "        X, y,stratify=y, test_size=0.2)"
   ]
  },
  {
   "cell_type": "code",
   "execution_count": 8,
   "metadata": {},
   "outputs": [
    {
     "data": {
      "image/png": "[encoded data removed]",
      "text/plain": [
       "<Figure size 432x288 with 1 Axes>"
      ]
     },
     "metadata": {
      "needs_background": "light"
     },
     "output_type": "display_data"
    },
    {
     "data": {
      "image/png": "[encoded data removed]",
      "text/plain": [
       "<Figure size 432x288 with 1 Axes>"
      ]
     },
     "metadata": {
      "needs_background": "light"
     },
     "output_type": "display_data"
    }
   ],
   "source": [
    "# NO 2\n",
    "\n",
    "# Scatter berdasarkan fitur sepal\n",
    "plt.scatter(X_train['sepal width (cm)'], y_train)\n",
    "plt.show()\n",
    "\n",
    "# Scatter berdasarkan fitur petal\n",
    "plt.scatter(X_train['petal width (cm)'], y_train)\n",
    "plt.show()"
   ]
  },
  {
   "cell_type": "code",
   "execution_count": null,
   "metadata": {},
   "outputs": [],
   "source": [
    "# No 3\n",
    "\n",
    "def sigmoid(x):\n",
    "    # (1 / (1 + e^(-x)))\n",
    "    return 1 / (1 + np.exp(-x))"
   ]
  }
 ],
 "metadata": {
  "interpreter": {
   "hash": "1abfc7cf5f855fef04080454baba6fb07024bf02fe622a1ea1c9c6591e669149"
  },
  "kernelspec": {
   "display_name": "Python 3.10.4 ('venv': venv)",
   "language": "python",
   "name": "python3"
  },
  "language_info": {
   "codemirror_mode": {
    "name": "ipython",
    "version": 3
   },
   "file_extension": ".py",
   "mimetype": "text/x-python",
   "name": "python",
   "nbconvert_exporter": "python",
   "pygments_lexer": "ipython3",
   "version": "3.10.4"
  },
  "orig_nbformat": 4
 },
 "nbformat": 4,
 "nbformat_minor": 2
}
